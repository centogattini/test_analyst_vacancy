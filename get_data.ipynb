{
 "cells": [
  {
   "attachments": {},
   "cell_type": "markdown",
   "metadata": {},
   "source": [
    "## Получение данных для анализа"
   ]
  },
  {
   "cell_type": "code",
   "execution_count": 3,
   "metadata": {},
   "outputs": [],
   "source": [
    "from telethon import TelegramClient, events\n",
    "import pandas as pd\n",
    "import telethon"
   ]
  },
  {
   "cell_type": "code",
   "execution_count": 4,
   "metadata": {},
   "outputs": [
    {
     "data": {
      "text/plain": [
       "<telethon.client.telegramclient.TelegramClient at 0x7fccd8061520>"
      ]
     },
     "execution_count": 4,
     "metadata": {},
     "output_type": "execute_result"
    }
   ],
   "source": [
    "name = 'YOUR_APP_NAME'\n",
    "api_id = 'YOUR_APP_ID'\n",
    "api_hash = 'YOUR_APP_HASH'\n",
    "# Чтобы получить доступ к Telegram API создайте app на my.telegram.org\n",
    "client = TelegramClient(name, api_id, api_hash)\n",
    "await client.start()"
   ]
  },
  {
   "cell_type": "code",
   "execution_count": 5,
   "metadata": {},
   "outputs": [
    {
     "name": "stdout",
     "output_type": "stream",
     "text": [
      ">> You have finished 100.01%                   ."
     ]
    }
   ],
   "source": [
    "N_MESSAGES = 10000\n",
    "msg_text = []\n",
    "msg_msg_id = []\n",
    "msg_reply_msg_id = []\n",
    "msg_sender_id = []\n",
    "msg_added_user = []\n",
    "msg_date = []\n",
    "i = 0\n",
    "async for message in (client.iter_messages('https://t.me/aimylogic')):\n",
    "    if i > N_MESSAGES:\n",
    "        break\n",
    "    i+=1\n",
    "    print('\\r                                               .', end='')\n",
    "    print(f\"\\r>> You have finished {i*100/N_MESSAGES}%\", end='')\n",
    "    msg_text.append(message.text)\n",
    "    msg_msg_id.append(message.id)\n",
    "    if message.reply_to:\n",
    "        msg_reply_msg_id.append(message.reply_to.reply_to_msg_id)\n",
    "    else:\n",
    "        msg_reply_msg_id.append(-1)\n",
    "    msg_sender_id.append(message.sender_id)\n",
    "    is_user_added = type(message.action) == telethon.tl.types.MessageActionChatAddUser\n",
    "    msg_added_user.append(is_user_added)\n",
    "    msg_date.append(message.date.timestamp())"
   ]
  },
  {
   "cell_type": "code",
   "execution_count": 8,
   "metadata": {},
   "outputs": [],
   "source": [
    "df = pd.DataFrame()\n",
    "df['text'] = msg_text\n",
    "df['id'] = msg_msg_id\n",
    "df['reply_msg_id'] = msg_reply_msg_id\n",
    "df['sender_id'] = msg_sender_id\n",
    "df['added_user'] = msg_added_user\n",
    "df['date'] = msg_date"
   ]
  },
  {
   "cell_type": "code",
   "execution_count": 9,
   "metadata": {},
   "outputs": [],
   "source": [
    "df.to_csv(f'data_{N_MESSAGES}.csv',index=False)"
   ]
  }
 ],
 "metadata": {
  "kernelspec": {
   "display_name": "base",
   "language": "python",
   "name": "python3"
  },
  "language_info": {
   "codemirror_mode": {
    "name": "ipython",
    "version": 3
   },
   "file_extension": ".py",
   "mimetype": "text/x-python",
   "name": "python",
   "nbconvert_exporter": "python",
   "pygments_lexer": "ipython3",
   "version": "3.9.13"
  },
  "orig_nbformat": 4,
  "vscode": {
   "interpreter": {
    "hash": "62b8bc0883a55d74ebb9cc899dffbeddf3d70177e9a15cc93162ddd8e8ede564"
   }
  }
 },
 "nbformat": 4,
 "nbformat_minor": 2
}
